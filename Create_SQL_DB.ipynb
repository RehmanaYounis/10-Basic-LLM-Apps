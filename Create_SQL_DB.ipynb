{
 "cells": [
  {
   "cell_type": "markdown",
   "metadata": {},
   "source": [
    "# Interacting with SQL Database using LLM"
   ]
  },
  {
   "cell_type": "code",
   "execution_count": 2,
   "metadata": {},
   "outputs": [],
   "source": [
    "import os\n",
    "from dotenv import load_dotenv\n",
    "from langchain_google_genai import ChatGoogleGenerativeAI\n",
    "from langchain_core.prompts import PromptTemplate\n",
    "from langchain_core.pydantic_v1 import BaseModel, Field\n",
    "from langchain.prompts import ChatPromptTemplate\n",
    "\n",
    "import sqlite3\n",
    "import streamlit as st"
   ]
  },
  {
   "cell_type": "markdown",
   "metadata": {},
   "source": [
    "## Creating an SQLlite datbase using Python"
   ]
  },
  {
   "cell_type": "code",
   "execution_count": 3,
   "metadata": {},
   "outputs": [],
   "source": [
    "connection=sqlite3.connect(\"students_records.db\")"
   ]
  },
  {
   "cell_type": "code",
   "execution_count": 4,
   "metadata": {},
   "outputs": [],
   "source": [
    "cursor=connection.cursor()\n"
   ]
  },
  {
   "cell_type": "code",
   "execution_count": 5,
   "metadata": {},
   "outputs": [],
   "source": [
    "table_info=\"\"\"\n",
    "Create table IF NOT EXISTS STUDENT(NAME VARCHAR(25),CLASS VARCHAR(25),\n",
    "SECTION VARCHAR(25),MARKS INT);\n",
    "\"\"\""
   ]
  },
  {
   "cell_type": "code",
   "execution_count": 6,
   "metadata": {},
   "outputs": [
    {
     "data": {
      "text/plain": [
       "<sqlite3.Cursor at 0x25172908dc0>"
      ]
     },
     "execution_count": 6,
     "metadata": {},
     "output_type": "execute_result"
    }
   ],
   "source": [
    "cursor.execute(table_info)"
   ]
  },
  {
   "cell_type": "code",
   "execution_count": 15,
   "metadata": {},
   "outputs": [
    {
     "data": {
      "text/plain": [
       "<sqlite3.Cursor at 0x1dab52e3cc0>"
      ]
     },
     "execution_count": 15,
     "metadata": {},
     "output_type": "execute_result"
    }
   ],
   "source": [
    "cursor.execute('''Insert Into STUDENT values('Rehmana','Robotics Engineering','A',90)''')\n",
    "cursor.execute('''Insert Into STUDENT values('Azib','Data Science','B',100)''')\n",
    "cursor.execute('''Insert Into STUDENT values('Maria','Data Science','A',56)''')\n",
    "cursor.execute('''Insert Into STUDENT values('Wajeh','DEVOPS','A',86)''')\n",
    "cursor.execute('''Insert Into STUDENT values('Mariam','DEVOPS','A',35)''')"
   ]
  },
  {
   "cell_type": "code",
   "execution_count": 16,
   "metadata": {},
   "outputs": [
    {
     "name": "stdout",
     "output_type": "stream",
     "text": [
      "Inserted records are\n",
      "('Rehmana', 'Robotics Engineering', 'A', 90)\n",
      "('Azib', 'Data Science', 'B', 100)\n",
      "('Maria', 'Data Science', 'A', 56)\n",
      "('Wajeh', 'DEVOPS', 'A', 86)\n",
      "('Mariam', 'DEVOPS', 'A', 35)\n",
      "('Rehmana', 'Robotics Engineering', 'A', 90)\n",
      "('Azib', 'Data Science', 'B', 100)\n",
      "('Maria', 'Data Science', 'A', 56)\n",
      "('Wajeh', 'DEVOPS', 'A', 86)\n",
      "('Mariam', 'DEVOPS', 'A', 35)\n"
     ]
    }
   ],
   "source": [
    "print(\"Inserted records are\")\n",
    "data=cursor.execute('''Select * from STUDENT''')\n",
    "for row in data:\n",
    "    print(row)\n",
    "\n",
    "## Commit your changes int the databse\n",
    "connection.commit()\n",
    "connection.close()"
   ]
  },
  {
   "cell_type": "markdown",
   "metadata": {},
   "source": [
    "## LLM Interacting with SQL Database"
   ]
  },
  {
   "cell_type": "code",
   "execution_count": 17,
   "metadata": {},
   "outputs": [],
   "source": [
    "model = ChatGoogleGenerativeAI(model='gemini-1.5-flash')"
   ]
  },
  {
   "cell_type": "code",
   "execution_count": 18,
   "metadata": {},
   "outputs": [],
   "source": [
    "# Read data from SQL DB\n",
    "def read_from_db(query, db):\n",
    "    print(query)\n",
    "    connection=sqlite3.connect(db)\n",
    "    cursor=connection.cursor()\n",
    "    cursor.execute(query)\n",
    "    rows=cursor.fetchall()\n",
    "    connection.commit()\n",
    "    connection.close()\n",
    "    for row in rows:\n",
    "        print (row)\n",
    "    return rows"
   ]
  },
  {
   "cell_type": "code",
   "execution_count": 26,
   "metadata": {},
   "outputs": [],
   "source": [
    "# prompt= \"\"\"\n",
    "#     You are an expert in translating English questions into SQL queries.\n",
    "#     Below are few examples how you will see question and how your answer should look like\n",
    "#     For example:\n",
    "#     Question: \"How many entries of records are present?\"\n",
    "#     SQL Query: SELECT COUNT(*) FROM STUDENT;\n",
    "#     Question: \"Tell me all the students studying in Data Science class?\"\n",
    "#     SQL Query: SELECT * FROM STUDENT WHERE CLASS = 'Data Science';\n",
    "#     Ensure that the generated SQL code is clear, without enclosing it in any backticks (```), \n",
    "#     and avoid including the word \"SQL\" in the output. \n",
    "    \n",
    "#     Question : {question}\n",
    "#     \"\"\"\n",
    "\n",
    "# Prompt_template = ChatPromptTemplate.from_template(prompt)"
   ]
  },
  {
   "cell_type": "code",
   "execution_count": 1,
   "metadata": {},
   "outputs": [],
   "source": [
    "# st.set_page_config(page_title=\"Database Agent\")\n",
    "# st.header(\"App to Interact with Database\")\n",
    "# question=st.text_input(\"Input: \", key=\"input\")\n",
    "# submit=st.button(\"Question\")\n",
    "# if submit:\n",
    "#     query=model.invoke(question, prompt)\n",
    "#     print(\"LLM generated the following query:/n\", query)\n",
    "#     response=read_from_db(query=query, db=\"students_records.db\")\n",
    "#     st.subheader(\"Result from Database\")\n",
    "#     for row in response:\n",
    "#         st.write(row)\n",
    "#         #st.header(row)\n",
    "    \n",
    "    \n",
    "    "
   ]
  },
  {
   "cell_type": "code",
   "execution_count": 37,
   "metadata": {},
   "outputs": [
    {
     "name": "stdout",
     "output_type": "stream",
     "text": [
      "LLM generated the following query:\n",
      " SELECT * FROM STUDENT; \n",
      "\n",
      "SELECT * FROM STUDENT; \n",
      "\n",
      "('Rehmana', 'Robotics Engineering', 'A', 90)\n",
      "('Azib', 'Data Science', 'B', 100)\n",
      "('Maria', 'Data Science', 'A', 56)\n",
      "('Wajeh', 'DEVOPS', 'A', 86)\n",
      "('Mariam', 'DEVOPS', 'A', 35)\n",
      "('Rehmana', 'Robotics Engineering', 'A', 90)\n",
      "('Azib', 'Data Science', 'B', 100)\n",
      "('Maria', 'Data Science', 'A', 56)\n",
      "('Wajeh', 'DEVOPS', 'A', 86)\n",
      "('Mariam', 'DEVOPS', 'A', 35)\n",
      "('Rehmana', 'Robotics Engineering', 'A', 90)\n",
      "('Azib', 'Data Science', 'B', 100)\n",
      "('Maria', 'Data Science', 'A', 56)\n",
      "('Wajeh', 'DEVOPS', 'A', 86)\n",
      "('Mariam', 'DEVOPS', 'A', 35)\n",
      "('Rehmana', 'Robotics Engineering', 'A', 90)\n",
      "('Azib', 'Data Science', 'B', 100)\n",
      "('Maria', 'Data Science', 'A', 56)\n",
      "('Wajeh', 'DEVOPS', 'A', 86)\n",
      "('Mariam', 'DEVOPS', 'A', 35)\n"
     ]
    }
   ],
   "source": [
    "# # question = input(\"Please enter your input: \")\n",
    "# formatted_prompt = prompt.format(question=\"show me all students\")\n",
    "# query=model.invoke(formatted_prompt)\n",
    "# print(\"LLM generated the following query:\\n\", query.content)\n",
    "# response=read_from_db(query=query.content, db=\"students_records.db\")\n",
    "# for row in response:\n",
    "#     print(row)"
   ]
  }
 ],
 "metadata": {
  "kernelspec": {
   "display_name": "langchain-crash-course-py3.10",
   "language": "python",
   "name": "langchain-crash-course-py3.10"
  },
  "language_info": {
   "codemirror_mode": {
    "name": "ipython",
    "version": 3
   },
   "file_extension": ".py",
   "mimetype": "text/x-python",
   "name": "python",
   "nbconvert_exporter": "python",
   "pygments_lexer": "ipython3",
   "version": "3.10.0"
  }
 },
 "nbformat": 4,
 "nbformat_minor": 2
}
