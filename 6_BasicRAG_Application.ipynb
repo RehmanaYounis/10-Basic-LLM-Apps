{
 "cells": [
  {
   "cell_type": "code",
   "execution_count": 22,
   "metadata": {},
   "outputs": [],
   "source": [
    "from langchain_openai import ChatOpenAI\n",
    "from langchain_core.prompts import ChatPromptTemplate\n",
    "from langchain.chains import create_retrieval_chain\n",
    "from langchain.chains.combine_documents import create_stuff_documents_chain\n",
    "from langchain.vectorstores import Chroma\n",
    "from langchain_google_genai import ChatGoogleGenerativeAI\n",
    "from langchain_community.document_loaders import PyPDFLoader\n",
    "from langchain_openai import OpenAIEmbeddings\n",
    "from langchain_text_splitters import RecursiveCharacterTextSplitter\n",
    "from dotenv import load_dotenv\n",
    "import os"
   ]
  },
  {
   "cell_type": "code",
   "execution_count": 6,
   "metadata": {},
   "outputs": [],
   "source": [
    "model = ChatGoogleGenerativeAI(model=\"gemini-1.5-flash\")"
   ]
  },
  {
   "cell_type": "code",
   "execution_count": 9,
   "metadata": {},
   "outputs": [
    {
     "name": "stdout",
     "output_type": "stream",
     "text": [
      "4\n"
     ]
    }
   ],
   "source": [
    "file_path=\"./data/5pages.pdf\"\n",
    "loader=PyPDFLoader(file_path)\n",
    "docs=loader.load()\n",
    "print(len(docs))"
   ]
  },
  {
   "cell_type": "code",
   "execution_count": 10,
   "metadata": {},
   "outputs": [
    {
     "name": "stdout",
     "output_type": "stream",
     "text": [
      "page_content='Page 1 of 4 PDF Files \n",
      "Scan – Create – Reduce File Size  \n",
      " \n",
      " \n",
      "It is recommended that you purchase an Adobe Acrobat product that \n",
      "allows you to read, create and manipulate PDF documents.  Go to http://www.adobe.com/products/acrobat/matrix.html\n",
      " to compare \n",
      "Adobe products and features –Adobe  Acrobat Standard is sufficient. \n",
      " \n",
      " \n",
      "Scanning Documents \n",
      " \n",
      "You should only have to scan docu ments that are not electronic, and \n",
      "when you are unable to create a PDF using PDFMaker or the Print \n",
      "Command from the applicat ion you are using.   \n",
      " \n",
      "Signature Pages If you have a document such as a CV that requires a signature on a page only print the page that re quires the signature –printing the \n",
      "entire document and scanning it is not\n",
      " necessary or desired.  Once you \n",
      "sign and scan the signature page you can combine it with the original \n",
      "document using the Create PDF From Multiple Files feature. \n",
      " Scanner Settings Before scanning documents rememb er to make certain that the \n",
      "following settings are activated on your scanner (settings may vary):  Document Mode \n",
      " Scan to smallest size \n",
      " Fast (lowest quality) \n",
      " Grayscale or black and white  \n",
      " Resolution: 300dpi or less \n",
      " ' metadata={'source': './data/5pages.pdf', 'page': 0}\n"
     ]
    }
   ],
   "source": [
    "print(docs[0])"
   ]
  },
  {
   "cell_type": "code",
   "execution_count": 21,
   "metadata": {},
   "outputs": [
    {
     "name": "stdout",
     "output_type": "stream",
     "text": [
      "Page 1 of 4 PDF Files \n",
      "Scan – Create – Reduce File Size  \n",
      " \n",
      " \n",
      "It is recommended that you purchase an\n",
      "\n",
      "\n",
      "The Metadata of the above is \n",
      "{'source': './data/5pages.pdf', 'page': 0}\n"
     ]
    }
   ],
   "source": [
    "print(docs[0].page_content[0:100]+\"\\n\\n\")\n",
    "print(\"The Metadata of the above is \")\n",
    "print(docs[0].metadata)"
   ]
  },
  {
   "cell_type": "code",
   "execution_count": 35,
   "metadata": {},
   "outputs": [
    {
     "name": "stdout",
     "output_type": "stream",
     "text": [
      "7\n"
     ]
    }
   ],
   "source": [
    "text_splitter =RecursiveCharacterTextSplitter(chunk_size=800, chunk_overlap=200)\n",
    "chunks = text_splitter.split_documents(docs)\n",
    "print(len(chunks))"
   ]
  },
  {
   "cell_type": "code",
   "execution_count": 36,
   "metadata": {},
   "outputs": [
    {
     "name": "stdout",
     "output_type": "stream",
     "text": [
      "page_content='Page 1 of 4 PDF Files \n",
      "Scan – Create – Reduce File Size  \n",
      " \n",
      " \n",
      "It is recommended that you purchase an Adobe Acrobat product that \n",
      "allows you to read, create and manipulate PDF documents.  Go to http://www.adobe.com/products/acrobat/matrix.html\n",
      " to compare \n",
      "Adobe products and features –Adobe  Acrobat Standard is sufficient. \n",
      " \n",
      " \n",
      "Scanning Documents \n",
      " \n",
      "You should only have to scan docu ments that are not electronic, and \n",
      "when you are unable to create a PDF using PDFMaker or the Print \n",
      "Command from the applicat ion you are using.   \n",
      " \n",
      "Signature Pages If you have a document such as a CV that requires a signature on a page only print the page that re quires the signature –printing the \n",
      "entire document and scanning it is not\n",
      " necessary or desired.  Once you' metadata={'source': './data/5pages.pdf', 'page': 0}\n",
      "---------------------\n",
      "\n",
      "\n",
      "\n",
      "page_content='entire document and scanning it is not\n",
      " necessary or desired.  Once you \n",
      "sign and scan the signature page you can combine it with the original \n",
      "document using the Create PDF From Multiple Files feature. \n",
      " Scanner Settings Before scanning documents rememb er to make certain that the \n",
      "following settings are activated on your scanner (settings may vary):  Document Mode \n",
      " Scan to smallest size \n",
      " Fast (lowest quality) \n",
      " Grayscale or black and white  \n",
      " Resolution: 300dpi or less' metadata={'source': './data/5pages.pdf', 'page': 0}\n"
     ]
    }
   ],
   "source": [
    "print(chunks[0])\n",
    "print(\"---------------------\\n\\n\\n\")\n",
    "print(chunks[1])"
   ]
  },
  {
   "cell_type": "code",
   "execution_count": 40,
   "metadata": {},
   "outputs": [],
   "source": [
    "# To store database for the first time\n",
    "vectorstore=Chroma.from_documents(documents=chunks, embedding=OpenAIEmbeddings(),persist_directory=\"./my_chroma_db\")\n",
    "retriever= vectorstore.as_retriever()"
   ]
  },
  {
   "cell_type": "code",
   "execution_count": 42,
   "metadata": {},
   "outputs": [],
   "source": [
    "# To retrieve already build database\n",
    "vectorstore = Chroma(persist_directory=\"./my_chroma_db\", embedding_function=OpenAIEmbeddings())\n",
    "retriever = vectorstore.as_retriever()\n"
   ]
  },
  {
   "cell_type": "code",
   "execution_count": 43,
   "metadata": {},
   "outputs": [],
   "source": [
    "system_prompt=(\n",
    "    \"You are an assistant for question-answering tasks. \"\n",
    "    \"Use the following pieces of retrieved context to answer \"\n",
    "    \"the question. If you don't know the answer, say that you \"\n",
    "    \"don't know. Use three sentences maximum and keep the \"\n",
    "    \"answer concise.\"\n",
    "    \"\\n\\n\"\n",
    "    \"{context}\"\n",
    ")\n"
   ]
  },
  {
   "cell_type": "code",
   "execution_count": 44,
   "metadata": {},
   "outputs": [],
   "source": [
    "prompt =ChatPromptTemplate.from_messages(\n",
    "[\n",
    "    ('system', system_prompt),\n",
    "    ('human', '{input}'),\n",
    "    \n",
    "])"
   ]
  },
  {
   "cell_type": "code",
   "execution_count": 45,
   "metadata": {},
   "outputs": [
    {
     "data": {
      "text/plain": [
       "'This document provides instructions on creating PDF documents, specifically focusing on two methods: using Adobe Acrobat Standard or higher, and using an online converter called PS2PSF. The document also includes instructions for scanning documents and combining them into a single PDF file. \\n'"
      ]
     },
     "execution_count": 45,
     "metadata": {},
     "output_type": "execute_result"
    }
   ],
   "source": [
    "question_answer_chain=create_stuff_documents_chain(model, prompt)\n",
    "rag_chain=create_retrieval_chain(retriever, question_answer_chain)\n",
    "results=rag_chain.invoke({\"input\": \"write summary of this document\"})\n",
    "results[\"answer\"]"
   ]
  },
  {
   "cell_type": "code",
   "execution_count": 46,
   "metadata": {},
   "outputs": [
    {
     "data": {
      "text/plain": [
       "{'input': 'write summary of this document',\n",
       " 'context': [Document(metadata={'page': 2, 'source': './data/5pages.pdf'}, page_content='Page 3 of 4 Creating PDF Documents (continued) \\n \\nOption 2: If you do not have  Acrobat Standard or higher \\ninstalled use PS2PSF.*   \\n    \\n 1. Open the file in its authoring app lication, and choose File > Print. \\n2. Select “Print to File” and save. \\n3. Open your browser and go to http://ps2pdf.com/convert.htm\\n \\n4. Click “browse” select the file you created in step 2 (.prn or .ps), \\nclick “convert” \\n5. Download the newly created PDF file. \\n*Note: Some formatting changes ma y occur once converted (bullets \\nmay turn to symbols and color may become black and white).'),\n",
       "  Document(metadata={'page': 2, 'source': './data/5pages.pdf'}, page_content='Page 3 of 4 Creating PDF Documents (continued) \\n \\nOption 2: If you do not have  Acrobat Standard or higher \\ninstalled use PS2PSF.*   \\n    \\n 1. Open the file in its authoring app lication, and choose File > Print. \\n2. Select “Print to File” and save. \\n3. Open your browser and go to http://ps2pdf.com/convert.htm\\n \\n4. Click “browse” select the file you created in step 2 (.prn or .ps), \\nclick “convert” \\n5. Download the newly created PDF file. \\n*Note: Some formatting changes ma y occur once converted (bullets \\nmay turn to symbols and color may become black and white).'),\n",
       "  Document(metadata={'page': 2, 'source': './data/5pages.pdf'}, page_content='Page 3 of 4 Creating PDF Documents (continued) \\n \\nOption 2: If you do not have  Acrobat Standard or higher \\ninstalled use PS2PSF.*   \\n    \\n 1. Open the file in its authoring app lication, and choose File > Print. \\n2. Select “Print to File” and save. \\n3. Open your browser and go to http://ps2pdf.com/convert.htm\\n \\n4. Click “browse” select the file you created in step 2 (.prn or .ps), \\nclick “convert” \\n5. Download the newly created PDF file. \\n*Note: Some formatting changes ma y occur once converted (bullets \\nmay turn to symbols and color may become black and white).'),\n",
       "  Document(metadata={'page': 0, 'source': './data/5pages.pdf'}, page_content='entire document and scanning it is not\\n necessary or desired.  Once you \\nsign and scan the signature page you can combine it with the original \\ndocument using the Create PDF From Multiple Files feature. \\n Scanner Settings Before scanning documents rememb er to make certain that the \\nfollowing settings are activated on your scanner (settings may vary): \\x83 Document Mode \\n\\x83 Scan to smallest size \\n\\x83 Fast (lowest quality) \\n\\x83 Grayscale or black and white  \\n\\x83 Resolution: 300dpi or less')],\n",
       " 'answer': 'This document provides instructions on creating PDF documents, specifically focusing on two methods: using Adobe Acrobat Standard or higher, and using an online converter called PS2PSF. The document also includes instructions for scanning documents and combining them into a single PDF file. \\n'}"
      ]
     },
     "execution_count": 46,
     "metadata": {},
     "output_type": "execute_result"
    }
   ],
   "source": [
    "results"
   ]
  },
  {
   "cell_type": "markdown",
   "metadata": {},
   "source": [
    "### Process Flow:\n",
    "\n",
    "First, the retriever searches through the document collection and brings back only the most relevant documents based on the user's query.\n",
    "Create Stuff Documents Chain Embeds the Documents:\n",
    "\n",
    "After the retriever finds the relevant documents, the create_stuff_documents_chain formats those documents into a prompt that the LLM can understand.\n",
    "The documents are bundled together in a specific way and embedded into the prompt.\n",
    "LLM Answers the Query:\n",
    "\n",
    "The prompt (which now contains the relevant documents) is passed to the LLM, which processes the information and generates an answer to the user's query.\n",
    "In essence, the retriever finds the best documents first, and then the create_stuff_documents_chain takes those documents and combines them into a prompt that is given to the LLM for a final response.\n",
    "\n",
    "This ensures that the LLM focuses on just the relevant information, improving both the efficiency and accuracy of the response."
   ]
  }
 ],
 "metadata": {
  "kernelspec": {
   "display_name": "langchain-crash-course-py3.10",
   "language": "python",
   "name": "langchain-crash-course-py3.10"
  },
  "language_info": {
   "codemirror_mode": {
    "name": "ipython",
    "version": 3
   },
   "file_extension": ".py",
   "mimetype": "text/x-python",
   "name": "python",
   "nbconvert_exporter": "python",
   "pygments_lexer": "ipython3",
   "version": "3.10.0"
  }
 },
 "nbformat": 4,
 "nbformat_minor": 2
}
