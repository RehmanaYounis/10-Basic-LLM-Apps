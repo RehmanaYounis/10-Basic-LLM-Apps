{
 "cells": [
  {
   "cell_type": "markdown",
   "metadata": {},
   "source": [
    "## Chatbot with Temporary Memory using ConversationBufferMemory in LangChain"
   ]
  },
  {
   "cell_type": "code",
   "execution_count": 5,
   "metadata": {},
   "outputs": [],
   "source": [
    "# To ignore depreciation warnings\n",
    "import warnings\n",
    "from langchain._api import LangChainDeprecationWarning\n",
    "warnings.simplefilter(\"ignore\", category=LangChainDeprecationWarning)"
   ]
  },
  {
   "cell_type": "code",
   "execution_count": 12,
   "metadata": {},
   "outputs": [
    {
     "data": {
      "text/plain": [
       "True"
      ]
     },
     "execution_count": 12,
     "metadata": {},
     "output_type": "execute_result"
    }
   ],
   "source": [
    "import os\n",
    "from dotenv import load_dotenv\n",
    "from langchain import LLMChain\n",
    "from langchain_google_genai import ChatGoogleGenerativeAI\n",
    "from langchain_core.prompts import ChatPromptTemplate, HumanMessagePromptTemplate,MessagesPlaceholder\n",
    "from langchain.memory import ConversationBufferMemory\n",
    "from langchain.memory import FileChatMessageHistory\n",
    "load_dotenv()"
   ]
  },
  {
   "cell_type": "code",
   "execution_count": 10,
   "metadata": {},
   "outputs": [],
   "source": [
    "memory = ConversationBufferMemory(\n",
    "    chat_memory=FileChatMessageHistory(\"temp_hisoty.json\"),\n",
    "    memory_key=\"messages\",\n",
    "    return_messages=True\n",
    ")"
   ]
  },
  {
   "cell_type": "code",
   "execution_count": 11,
   "metadata": {},
   "outputs": [],
   "source": [
    "prompt = ChatPromptTemplate(\n",
    "    input_variables=[\"content\", \"messages\"],\n",
    "    messages=[\n",
    "        MessagesPlaceholder(variable_name=\"messages\"),\n",
    "        HumanMessagePromptTemplate.from_template(\"{content}\")\n",
    "    ]\n",
    ")"
   ]
  },
  {
   "cell_type": "code",
   "execution_count": 13,
   "metadata": {},
   "outputs": [],
   "source": [
    "llm= ChatGoogleGenerativeAI(model='gemini-1.5-flash')"
   ]
  },
  {
   "cell_type": "code",
   "execution_count": 14,
   "metadata": {},
   "outputs": [],
   "source": [
    "chain = LLMChain(\n",
    "    llm=llm, \n",
    "    prompt=prompt,\n",
    "    memory=memory\n",
    ")"
   ]
  },
  {
   "cell_type": "code",
   "execution_count": 15,
   "metadata": {},
   "outputs": [
    {
     "data": {
      "text/plain": [
       "{'content': 'Hi, Goodmorning , its me Rehmana, today is 9th of September 2024, Saturday',\n",
       " 'messages': [],\n",
       " 'text': \"Good morning Rehmana! 👋  It's a beautiful Saturday, September 9th, 2024. What are your plans for the day? 😊 \\n\"}"
      ]
     },
     "execution_count": 15,
     "metadata": {},
     "output_type": "execute_result"
    }
   ],
   "source": [
    "chain.invoke(\"Hi, Goodmorning , its me Rehmana, today is 9th of September 2024, Saturday\")"
   ]
  },
  {
   "cell_type": "code",
   "execution_count": 17,
   "metadata": {},
   "outputs": [
    {
     "data": {
      "text/plain": [
       "{'content': 'I have plans to hangout with friends today',\n",
       " 'messages': [HumanMessage(content='Hi, Goodmorning , its me Rehmana, today is 9th of September 2024, Saturday'),\n",
       "  AIMessage(content=\"Good morning Rehmana! 👋  It's a beautiful Saturday, September 9th, 2024. What are your plans for the day? 😊 \\n\"),\n",
       "  HumanMessage(content='I have plans to hangout with friends today'),\n",
       "  AIMessage(content='That sounds like a great way to spend a Saturday!  Enjoy your time with your friends. What are you all planning to do?  Maybe some fun activities, catching up, or just relaxing? 😄 \\n')],\n",
       " 'text': 'That sounds like a great way to spend a Saturday!  Enjoy your time with your friends. What are you all planning to do?  Maybe some fun activities, catching up, or just relaxing? 😄 \\n'}"
      ]
     },
     "execution_count": 17,
     "metadata": {},
     "output_type": "execute_result"
    }
   ],
   "source": [
    "chain.invoke(\"I have plans to hangout with friends today\")"
   ]
  },
  {
   "cell_type": "code",
   "execution_count": 18,
   "metadata": {},
   "outputs": [
    {
     "data": {
      "text/plain": [
       "{'content': 'I also want to study and enhance my LLM skills what do you suggest is better to do today',\n",
       " 'messages': [HumanMessage(content='Hi, Goodmorning , its me Rehmana, today is 9th of September 2024, Saturday'),\n",
       "  AIMessage(content=\"Good morning Rehmana! 👋  It's a beautiful Saturday, September 9th, 2024. What are your plans for the day? 😊 \\n\"),\n",
       "  HumanMessage(content='I have plans to hangout with friends today'),\n",
       "  AIMessage(content='That sounds like a great way to spend a Saturday!  Enjoy your time with your friends. What are you all planning to do?  Maybe some fun activities, catching up, or just relaxing? 😄 \\n'),\n",
       "  HumanMessage(content='I have plans to hangout with friends today'),\n",
       "  AIMessage(content='That sounds like a great way to spend a Saturday!  Enjoy your time with your friends. What are you all planning to do?  Maybe some fun activities, catching up, or just relaxing? 😄 \\n')],\n",
       " 'text': \"Ah, the eternal struggle between fun and productivity!  It's great that you're dedicated to improving your LLM skills.  \\n\\nHere's what I suggest:\\n\\n* **Prioritize the Hangout:**  Friends are important!  Enjoy your day with them, knowing you've got study time later.\\n* **Schedule a Study Session:**  Pick a time tonight or tomorrow where you can focus for a solid hour or two. \\n* **Make it Fun:**  LLM learning doesn't have to be boring!  Try a fun challenge, a coding exercise, or a creative writing prompt.\\n\\nRemember, you can always balance both!  Enjoy your time with friends, then come back to your LLM studies with a fresh perspective. 😊 \\n\"}"
      ]
     },
     "execution_count": 18,
     "metadata": {},
     "output_type": "execute_result"
    }
   ],
   "source": [
    "chain.invoke(\"I also want to study and enhance my LLM skills what do you suggest is better to do today\")"
   ]
  },
  {
   "cell_type": "code",
   "execution_count": 19,
   "metadata": {},
   "outputs": [
    {
     "data": {
      "text/plain": [
       "{'content': 'what is my name',\n",
       " 'messages': [HumanMessage(content='Hi, Goodmorning , its me Rehmana, today is 9th of September 2024, Saturday'),\n",
       "  AIMessage(content=\"Good morning Rehmana! 👋  It's a beautiful Saturday, September 9th, 2024. What are your plans for the day? 😊 \\n\"),\n",
       "  HumanMessage(content='I have plans to hangout with friends today'),\n",
       "  AIMessage(content='That sounds like a great way to spend a Saturday!  Enjoy your time with your friends. What are you all planning to do?  Maybe some fun activities, catching up, or just relaxing? 😄 \\n'),\n",
       "  HumanMessage(content='I have plans to hangout with friends today'),\n",
       "  AIMessage(content='That sounds like a great way to spend a Saturday!  Enjoy your time with your friends. What are you all planning to do?  Maybe some fun activities, catching up, or just relaxing? 😄 \\n'),\n",
       "  HumanMessage(content='I also want to study and enhance my LLM skills what do you suggest is better to do today'),\n",
       "  AIMessage(content=\"Ah, the eternal struggle between fun and productivity!  It's great that you're dedicated to improving your LLM skills.  \\n\\nHere's what I suggest:\\n\\n* **Prioritize the Hangout:**  Friends are important!  Enjoy your day with them, knowing you've got study time later.\\n* **Schedule a Study Session:**  Pick a time tonight or tomorrow where you can focus for a solid hour or two. \\n* **Make it Fun:**  LLM learning doesn't have to be boring!  Try a fun challenge, a coding exercise, or a creative writing prompt.\\n\\nRemember, you can always balance both!  Enjoy your time with friends, then come back to your LLM studies with a fresh perspective. 😊 \\n\")],\n",
       " 'text': 'You told me your name is Rehmana!  😊  Is that right? \\n'}"
      ]
     },
     "execution_count": 19,
     "metadata": {},
     "output_type": "execute_result"
    }
   ],
   "source": [
    "chain.invoke(\"what is my name\")"
   ]
  },
  {
   "cell_type": "code",
   "execution_count": null,
   "metadata": {},
   "outputs": [],
   "source": []
  },
  {
   "cell_type": "code",
   "execution_count": null,
   "metadata": {},
   "outputs": [],
   "source": []
  }
 ],
 "metadata": {
  "kernelspec": {
   "display_name": "langchain-crash-course-py3.10",
   "language": "python",
   "name": "langchain-crash-course-py3.10"
  },
  "language_info": {
   "codemirror_mode": {
    "name": "ipython",
    "version": 3
   },
   "file_extension": ".py",
   "mimetype": "text/x-python",
   "name": "python",
   "nbconvert_exporter": "python",
   "pygments_lexer": "ipython3",
   "version": "3.10.0"
  }
 },
 "nbformat": 4,
 "nbformat_minor": 2
}
