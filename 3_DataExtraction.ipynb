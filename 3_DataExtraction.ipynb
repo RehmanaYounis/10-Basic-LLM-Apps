{
 "cells": [
  {
   "cell_type": "markdown",
   "metadata": {},
   "source": [
    "# Extracting Data using Pydantic"
   ]
  },
  {
   "cell_type": "code",
   "execution_count": 36,
   "metadata": {},
   "outputs": [],
   "source": [
    "import os\n",
    "from dotenv import load_dotenv\n",
    "from langchain_google_genai import ChatGoogleGenerativeAI\n",
    "from langchain_openai import OpenAI,ChatOpenAI\n",
    "from typing import Optional,Literal, List\n",
    "from langchain_core.pydantic_v1 import BaseModel, Field\n",
    "from langchain_core.prompts import ChatPromptTemplate, MessagesPlaceholder\n"
   ]
  },
  {
   "cell_type": "code",
   "execution_count": 67,
   "metadata": {},
   "outputs": [],
   "source": [
    "class Product(BaseModel):\n",
    "    name: str = Field( description=\"Holds the name of the product\")\n",
    "    type: str=Field(description=\"Holds type of the product like Electronics, Home Appliances, Beauty \")\n",
    "    sentiment: Literal['neutral', 'positive', 'negative']= Field(..., description=\"Sentiments of the product review\")"
   ]
  },
  {
   "cell_type": "code",
   "execution_count": 63,
   "metadata": {},
   "outputs": [],
   "source": [
    "prompt=ChatPromptTemplate.from_messages(\n",
    "    [\n",
    "        ('system',\n",
    "         'you are an expert for data extraction.'\n",
    "         'you will be provided a text from which you extract relevant information.'\n",
    "         'if you dont know the value of an attribute asked to extract, return numm for that attribute value'),\n",
    "        ('human', '{text}')\n",
    "        \n",
    "    ]\n",
    ")"
   ]
  },
  {
   "cell_type": "code",
   "execution_count": 57,
   "metadata": {},
   "outputs": [],
   "source": [
    "llm=ChatGoogleGenerativeAI(model='gemini-1.5-flash')"
   ]
  },
  {
   "cell_type": "code",
   "execution_count": 68,
   "metadata": {},
   "outputs": [],
   "source": [
    "llm = ChatOpenAI(model='gpt-3.5-turbo-0125')"
   ]
  },
  {
   "cell_type": "code",
   "execution_count": 69,
   "metadata": {},
   "outputs": [],
   "source": [
    "review=\"The laptop battery sucks, and i have to keep it on charging always\""
   ]
  },
  {
   "cell_type": "code",
   "execution_count": 70,
   "metadata": {},
   "outputs": [
    {
     "data": {
      "text/plain": [
       "Product(name='laptop', type='Electronics', sentiment='negative')"
      ]
     },
     "execution_count": 70,
     "metadata": {},
     "output_type": "execute_result"
    }
   ],
   "source": [
    "chain= prompt | llm.with_structured_output(schema=Product)\n",
    "chain.invoke({\"text\": review})"
   ]
  },
  {
   "cell_type": "code",
   "execution_count": 71,
   "metadata": {},
   "outputs": [],
   "source": [
    "class Products(BaseModel):\n",
    "   all_products: List[Product] #= Field(..., description=\"List of extracted products\")\n",
    "    "
   ]
  },
  {
   "cell_type": "code",
   "execution_count": 72,
   "metadata": {},
   "outputs": [
    {
     "data": {
      "text/plain": [
       "Products(all_products=[Product(name='Apple iphone', type='Electronics', sentiment='positive'), Product(name='samsung note i2', type='Electronics', sentiment='negative')])"
      ]
     },
     "execution_count": 72,
     "metadata": {},
     "output_type": "execute_result"
    }
   ],
   "source": [
    "chain = prompt | llm.with_structured_output(schema=Products)\n",
    "review='I bought two mobiles in the past. The Apple iphone battery is awsome. The smasung note i2 battery decrease life in one year only'\n",
    "chain.invoke ({\"text\":review})"
   ]
  }
 ],
 "metadata": {
  "kernelspec": {
   "display_name": "langchain-crash-course-py3.10",
   "language": "python",
   "name": "langchain-crash-course-py3.10"
  },
  "language_info": {
   "codemirror_mode": {
    "name": "ipython",
    "version": 3
   },
   "file_extension": ".py",
   "mimetype": "text/x-python",
   "name": "python",
   "nbconvert_exporter": "python",
   "pygments_lexer": "ipython3",
   "version": "3.10.0"
  }
 },
 "nbformat": 4,
 "nbformat_minor": 2
}
